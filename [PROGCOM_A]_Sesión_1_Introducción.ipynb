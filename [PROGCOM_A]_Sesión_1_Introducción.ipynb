{
  "nbformat": 4,
  "nbformat_minor": 0,
  "metadata": {
    "colab": {
      "provenance": []
    },
    "kernelspec": {
      "name": "python3",
      "display_name": "Python 3"
    },
    "language_info": {
      "name": "python"
    }
  },
  "cells": [
    {
      "cell_type": "markdown",
      "source": [
        "# Uso inductorio de Python\n",
        "\n",
        "- input(): asigna/lee/imprime\n",
        "- print(): imprimir lo que se encuentra dentro de los paréntesis\n",
        "- type(): identifica el tipo de dato ingresado entre paréntesis\n",
        "- \\n: genera una nueva línea"
      ],
      "metadata": {
        "id": "HiNbRj-VtSEw"
      }
    },
    {
      "cell_type": "markdown",
      "source": [
        "# Estructura de selección\n",
        "La estructura de selección se realiza con el comando \"if\"\n",
        "\n",
        "## Estructura if\n",
        "if (condición): la condición debe ser verdadera si se desea que pase algo\n",
        "if TRUE:\n",
        "\n",
        "## Estructura ternaria del if\n",
        "Se cumple la condición **if** condición **else** si no se cumple la condición\n"
      ],
      "metadata": {
        "id": "O2ORBYCHvv93"
      }
    },
    {
      "cell_type": "code",
      "source": [
        "#Determinar si un número es par o impar\n",
        "num=int(input(\"Ingrese un número: \"))\n",
        "if num%2==0:\n",
        "  print(f\"{num} es par\")\n",
        "else:\n",
        "  print(f\"{num} es impar\")"
      ],
      "metadata": {
        "id": "xJoGpFOWv441"
      },
      "execution_count": null,
      "outputs": []
    },
    {
      "cell_type": "code",
      "source": [
        "num=int(input(\"Ingrese un número: \"))\n",
        "print(f\"{num} es par\") if num%2==0 else print(f\"{num} es impar\")"
      ],
      "metadata": {
        "id": "K8pugY03wzu-"
      },
      "execution_count": null,
      "outputs": []
    },
    {
      "cell_type": "code",
      "source": [
        "a=input(\"Hola, cómo te llamas? \")"
      ],
      "metadata": {
        "id": "hVJZAKVdt1sg"
      },
      "execution_count": null,
      "outputs": []
    },
    {
      "cell_type": "code",
      "source": [
        "a"
      ],
      "metadata": {
        "id": "fVTlASddt55I"
      },
      "execution_count": null,
      "outputs": []
    },
    {
      "cell_type": "code",
      "source": [
        "type(a)"
      ],
      "metadata": {
        "id": "YSXQZRxAt8Lu"
      },
      "execution_count": null,
      "outputs": []
    },
    {
      "cell_type": "code",
      "source": [
        "# Concatenando tipos diferentes de datos\n",
        "año= input(\"Hola \"+a+\". Cuántos años tienes?\")"
      ],
      "metadata": {
        "id": "KcosWj9tuCNM"
      },
      "execution_count": null,
      "outputs": []
    },
    {
      "cell_type": "code",
      "source": [
        "altura= input(f\"{a}, Cuánto mides?\")"
      ],
      "metadata": {
        "id": "se75Zx54uTZL"
      },
      "execution_count": null,
      "outputs": []
    },
    {
      "cell_type": "code",
      "source": [
        "print(f\"{a} tiene\\n{año} años\\n{altura}\")"
      ],
      "metadata": {
        "id": "Qw17EIw3uhI5"
      },
      "execution_count": null,
      "outputs": []
    },
    {
      "cell_type": "code",
      "source": [
        "print(f\"Datos de {a}:\")\n",
        "print(f\"Tiene {año} años:\")\n",
        "print(f\"Mide {altura}:\")"
      ],
      "metadata": {
        "id": "LGz08pUquwyh"
      },
      "execution_count": null,
      "outputs": []
    },
    {
      "cell_type": "code",
      "source": [
        "base=float(input(\"Ingresa la base del triángulo: \\nIngresa la altura del triángulo: \"))\n",
        "altura=float(input(\"Ingresa la altura del triángulo: \"))\n",
        "print(f\"El área del triángulo es: \", {base*altura/2})"
      ],
      "metadata": {
        "colab": {
          "base_uri": "https://localhost:8080/"
        },
        "id": "vfM5ogC1lArI",
        "outputId": "04eb84a7-a63c-4d0b-ecf2-e746df5c1918"
      },
      "execution_count": null,
      "outputs": [
        {
          "output_type": "stream",
          "name": "stdout",
          "text": [
            "Ingresa la base del triángulo: \n",
            "Ingresa la altura del triángulo: 14\n",
            "Ingresa la altura del triángulo: 2\n",
            "El área del triángulo es:  {14.0}\n"
          ]
        }
      ]
    },
    {
      "cell_type": "code",
      "source": [
        "type(base)"
      ],
      "metadata": {
        "colab": {
          "base_uri": "https://localhost:8080/"
        },
        "id": "mPpvXvWlok6E",
        "outputId": "fb382a47-dba4-4992-9f70-b2d8200705ab"
      },
      "execution_count": null,
      "outputs": [
        {
          "output_type": "execute_result",
          "data": {
            "text/plain": [
              "float"
            ]
          },
          "metadata": {},
          "execution_count": 17
        }
      ]
    },
    {
      "cell_type": "code",
      "source": [
        "base*3"
      ],
      "metadata": {
        "colab": {
          "base_uri": "https://localhost:8080/"
        },
        "id": "t318hXK4vHQQ",
        "outputId": "a32054bc-3e7f-4eeb-94f6-c22e47427fad"
      },
      "execution_count": null,
      "outputs": [
        {
          "output_type": "execute_result",
          "data": {
            "text/plain": [
              "42.0"
            ]
          },
          "metadata": {},
          "execution_count": 18
        }
      ]
    }
  ]
}